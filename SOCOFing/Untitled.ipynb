{
 "cells": [
  {
   "cell_type": "code",
   "execution_count": 2,
   "id": "3daee324",
   "metadata": {},
   "outputs": [],
   "source": [
    "import cv2\n",
    "from skimage.feature import hog\n",
    "import numpy as np\n",
    "from sklearn.preprocessing import normalize"
   ]
  },
  {
   "cell_type": "code",
   "execution_count": 3,
   "id": "00e3d83d",
   "metadata": {},
   "outputs": [],
   "source": [
    "def extract_lbp_feature(image):\n",
    "    # Convert the image to grayscale if it's in color\n",
    "    if len(image.shape) == 3:\n",
    "        image = cv2.cvtColor(image, cv2.COLOR_BGR2GRAY)\n",
    "\n",
    "    # Implement LBP feature extraction using OpenCV\n",
    "    radius = 1\n",
    "    num_points = 8 * radius\n",
    "    lbp = cv2.equalizeHist(cv2.LBP(image, num_points, radius, method=cv2.LBP_UNIFORM))\n",
    "    \n",
    "    # Normalize LBP histogram and return it as the LBP feature vector\n",
    "    hist, _ = np.histogram(lbp.ravel(), bins=np.arange(0, num_points + 3), range=(0, num_points + 2))\n",
    "    lbp_feature = hist.astype(np.float32)\n",
    "    lbp_feature /= (lbp_feature.sum() + 1e-6)\n",
    "    \n",
    "    return lbp_feature\n"
   ]
  },
  {
   "cell_type": "code",
   "execution_count": 6,
   "id": "3425b232",
   "metadata": {},
   "outputs": [],
   "source": [
    "def extract_sift_feature(image):\n",
    "    # Convert the image to grayscale if it's in color\n",
    "    if len(image.shape) == 3:\n",
    "        image = cv2.cvtColor(image, cv2.COLOR_BGR2GRAY)\n",
    "\n",
    "    # Implement SIFT feature extraction using OpenCV\n",
    "    sift = cv2.SIFT_create()\n",
    "    keypoints, descriptors = sift.detectAndCompute(image, None)\n",
    "    \n",
    "    # Normalize the descriptors to have consistent dimensions\n",
    "    if descriptors is not None:\n",
    "        descriptors = normalize(descriptors)\n",
    "\n",
    "    return sift_feature"
   ]
  },
  {
   "cell_type": "code",
   "execution_count": 7,
   "id": "f81de75b",
   "metadata": {},
   "outputs": [],
   "source": [
    "def extract_hog_feature(image):\n",
    "    # Convert the image to grayscale if it's in color\n",
    "    if len(image.shape) == 3:\n",
    "        image = cv2.cvtColor(image, cv2.COLOR_BGR2GRAY)\n",
    "\n",
    "    # Implement HOG feature extraction using scikit-image\n",
    "    _, hog_features = hog(image, pixels_per_cell=(8, 8), cells_per_block=(2, 2), visualize=True)\n",
    "    \n",
    "    # Flatten the HOG features and normalize to have consistent dimensions\n",
    "    hog_feature = hog_features.flatten()\n",
    "    hog_feature /= (np.linalg.norm(hog_feature) + 1e-6)\n",
    "\n",
    "    return hog_feature"
   ]
  },
  {
   "cell_type": "code",
   "execution_count": 8,
   "id": "5d97822f",
   "metadata": {},
   "outputs": [],
   "source": [
    "lbp_features_list = []\n",
    "sift_features_list = []\n",
    "hog_features_list = []"
   ]
  },
  {
   "cell_type": "code",
   "execution_count": 9,
   "id": "43934a4c",
   "metadata": {},
   "outputs": [],
   "source": [
    "import os"
   ]
  },
  {
   "cell_type": "code",
   "execution_count": 10,
   "id": "036affcd",
   "metadata": {},
   "outputs": [],
   "source": [
    "image_directory = r\"C:\\Users\\Bhargav's\\Downloads\\Finger\\SOCOFing\\SOCOFing\"\n",
    "\n",
    "for subdir in os.listdir(image_directory):\n",
    "    subdir_path = os.path.join(image_directory, subdir)\n",
    "    \n",
    "    if os.path.isdir(subdir_path):\n",
    "        label = subdir.lower() \n",
    "        \n",
    "        for filename in os.listdir(subdir_path):\n",
    "            if filename.endswith(\".jpg\"):  # You can modify this to match the image file extensions in your dataset\n",
    "                image_path = os.path.join(subdir_path, filename)\n",
    "                \n",
    "                # Load the image using OpenCV\n",
    "                image = cv2.imread(image_path, cv2.IMREAD_GRAYSCALE)\n",
    "                \n",
    "                # Extract LBP features\n",
    "                lbp_features = extract_lbp_feature(image)\n",
    "                lbp_features_list.append(lbp_features)\n",
    "\n",
    "                # Extract SIFT features\n",
    "                sift_features = extract_sift_feature(image)\n",
    "                sift_features_list.append(sift_features)\n",
    "\n",
    "                # Extract HOG features\n",
    "                hog_features = extract_hog_feature(image)\n",
    "                hog_features_list.append(hog_features)\n",
    "                \n",
    "                # Append the label (genuine or spoofed)\n",
    "                labels.append(label)"
   ]
  },
  {
   "cell_type": "code",
   "execution_count": 12,
   "id": "5427e7c4",
   "metadata": {},
   "outputs": [
    {
     "name": "stdout",
     "output_type": "stream",
     "text": [
      "0\n",
      "0\n",
      "0\n"
     ]
    }
   ],
   "source": [
    "print(len(lbp_features_list))\n",
    "print(len(sift_features_list))\n",
    "print(len(hog_features_list))\n"
   ]
  },
  {
   "cell_type": "code",
   "execution_count": null,
   "id": "10f67e2b",
   "metadata": {},
   "outputs": [],
   "source": []
  }
 ],
 "metadata": {
  "kernelspec": {
   "display_name": "Python 3 (ipykernel)",
   "language": "python",
   "name": "python3"
  },
  "language_info": {
   "codemirror_mode": {
    "name": "ipython",
    "version": 3
   },
   "file_extension": ".py",
   "mimetype": "text/x-python",
   "name": "python",
   "nbconvert_exporter": "python",
   "pygments_lexer": "ipython3",
   "version": "3.9.12"
  }
 },
 "nbformat": 4,
 "nbformat_minor": 5
}
